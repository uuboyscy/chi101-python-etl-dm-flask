{
 "cells": [
  {
   "cell_type": "code",
   "execution_count": 5,
   "id": "806e4b91",
   "metadata": {},
   "outputs": [
    {
     "name": "stdout",
     "output_type": "stream",
     "text": [
      "Requirement already satisfied: jieba in ./venv/lib/python3.8/site-packages (0.42.1)\n",
      "\u001b[33mWARNING: You are using pip version 19.2.3, however version 23.0.1 is available.\n",
      "You should consider upgrading via the 'pip install --upgrade pip' command.\u001b[0m\n"
     ]
    }
   ],
   "source": [
    "!pip install jieba"
   ]
  },
  {
   "cell_type": "code",
   "execution_count": 1,
   "id": "97132318",
   "metadata": {},
   "outputs": [],
   "source": [
    "import jieba"
   ]
  },
  {
   "cell_type": "code",
   "execution_count": 2,
   "id": "52d32077",
   "metadata": {},
   "outputs": [],
   "source": [
    "s = \"大家好我叫小賀，今天來中壢AI大數據班上課，學習網路爬蟲。\""
   ]
  },
  {
   "cell_type": "code",
   "execution_count": 3,
   "id": "57b70537",
   "metadata": {},
   "outputs": [
    {
     "data": {
      "text/plain": [
       "<generator object Tokenizer.cut at 0x7fa618102900>"
      ]
     },
     "execution_count": 3,
     "metadata": {},
     "output_type": "execute_result"
    }
   ],
   "source": [
    "jieba.cut(s, cut_all=True)"
   ]
  },
  {
   "cell_type": "code",
   "execution_count": 4,
   "id": "f7d25af2",
   "metadata": {},
   "outputs": [
    {
     "name": "stderr",
     "output_type": "stream",
     "text": [
      "Building prefix dict from the default dictionary ...\n",
      "Dumping model to file cache /var/folders/bv/8bbkzq895db366kq27vw262r0000gn/T/jieba.cache\n",
      "Loading model cost 0.770 seconds.\n",
      "Prefix dict has been built successfully.\n"
     ]
    },
    {
     "name": "stdout",
     "output_type": "stream",
     "text": [
      "大家\n",
      "好\n",
      "我\n",
      "叫\n",
      "小\n",
      "賀\n",
      "，\n",
      "今天\n",
      "來\n",
      "中\n",
      "壢\n",
      "AI\n",
      "大\n",
      "數\n",
      "據\n",
      "班上\n",
      "課\n",
      "，\n",
      "學\n",
      "習\n",
      "網\n",
      "路\n",
      "爬\n",
      "蟲\n",
      "。\n"
     ]
    }
   ],
   "source": [
    "word_gen = jieba.cut(s, cut_all=True)\n",
    "for w in word_gen:\n",
    "    print(w)"
   ]
  },
  {
   "cell_type": "code",
   "execution_count": 6,
   "id": "6b44f14c",
   "metadata": {},
   "outputs": [],
   "source": [
    "for w in word_gen:\n",
    "    print(w)"
   ]
  },
  {
   "cell_type": "code",
   "execution_count": 7,
   "id": "15edae25",
   "metadata": {},
   "outputs": [
    {
     "name": "stdout",
     "output_type": "stream",
     "text": [
      "大家\n",
      "好\n",
      "我\n",
      "叫\n",
      "小賀\n",
      "，\n",
      "今天\n",
      "來\n",
      "中壢\n",
      "AI\n",
      "大數據\n",
      "班上\n",
      "課\n",
      "，\n",
      "學習\n",
      "網路\n",
      "爬蟲\n",
      "。\n"
     ]
    }
   ],
   "source": [
    "word_gen = jieba.cut(s, cut_all=False)\n",
    "for w in word_gen:\n",
    "    print(w)"
   ]
  },
  {
   "cell_type": "code",
   "execution_count": 8,
   "id": "0c7bb1c1",
   "metadata": {},
   "outputs": [
    {
     "name": "stdout",
     "output_type": "stream",
     "text": [
      "大家\n",
      "好\n",
      "我\n",
      "叫\n",
      "小賀\n",
      "，\n",
      "今天\n",
      "來\n",
      "中壢\n",
      "AI\n",
      "大數據\n",
      "班上\n",
      "課\n",
      "，\n",
      "學習\n",
      "網路\n",
      "爬蟲\n",
      "。\n"
     ]
    }
   ],
   "source": [
    "word_gen = jieba.cut(s)\n",
    "for w in word_gen:\n",
    "    print(w)"
   ]
  },
  {
   "cell_type": "code",
   "execution_count": 9,
   "id": "ccbfffef",
   "metadata": {},
   "outputs": [
    {
     "name": "stdout",
     "output_type": "stream",
     "text": [
      "大家\n",
      "好\n",
      "我\n",
      "叫\n",
      "小賀\n",
      "，\n",
      "今天\n",
      "來\n",
      "中壢\n",
      "AI\n",
      "大數據\n",
      "班上\n",
      "課\n",
      "，\n",
      "學習\n",
      "網路\n",
      "爬蟲\n",
      "。\n"
     ]
    }
   ],
   "source": [
    "word_gen = jieba.cut_for_search(s)\n",
    "for w in word_gen:\n",
    "    print(w)"
   ]
  },
  {
   "cell_type": "code",
   "execution_count": 10,
   "id": "b31511d8",
   "metadata": {},
   "outputs": [
    {
     "data": {
      "text/plain": [
       "'大家|好|我|叫|小賀|，|今天|來|中壢|AI|大數據|班上|課|，|學習|網路|爬蟲|。'"
      ]
     },
     "execution_count": 10,
     "metadata": {},
     "output_type": "execute_result"
    }
   ],
   "source": [
    "\"|\".join(jieba.cut(s))"
   ]
  },
  {
   "cell_type": "code",
   "execution_count": 16,
   "id": "7f4c2b75",
   "metadata": {},
   "outputs": [],
   "source": [
    "jieba.load_userdict(\"./mydict.txt\")"
   ]
  },
  {
   "cell_type": "code",
   "execution_count": 17,
   "id": "a740e165",
   "metadata": {},
   "outputs": [
    {
     "data": {
      "text/plain": [
       "'大家|好|我|叫|小賀|，|今天|來|中壢|AI大數據班|上課|，|學習|網路爬蟲|。'"
      ]
     },
     "execution_count": 17,
     "metadata": {},
     "output_type": "execute_result"
    }
   ],
   "source": [
    "\"|\".join(jieba.cut(s))"
   ]
  },
  {
   "cell_type": "code",
   "execution_count": 18,
   "id": "643ee99f",
   "metadata": {},
   "outputs": [
    {
     "data": {
      "text/plain": [
       "'大家|好|我|叫|小賀|，|今天|來|中壢|AI大數據班|上課|，|學習|網路爬蟲|。'"
      ]
     },
     "execution_count": 18,
     "metadata": {},
     "output_type": "execute_result"
    }
   ],
   "source": [
    "\"|\".join(jieba.cut_for_search(s))"
   ]
  },
  {
   "cell_type": "code",
   "execution_count": null,
   "id": "b043ff09",
   "metadata": {},
   "outputs": [],
   "source": []
  }
 ],
 "metadata": {
  "kernelspec": {
   "display_name": "Python 3 (ipykernel)",
   "language": "python",
   "name": "python3"
  },
  "language_info": {
   "codemirror_mode": {
    "name": "ipython",
    "version": 3
   },
   "file_extension": ".py",
   "mimetype": "text/x-python",
   "name": "python",
   "nbconvert_exporter": "python",
   "pygments_lexer": "ipython3",
   "version": "3.8.2"
  }
 },
 "nbformat": 4,
 "nbformat_minor": 5
}
